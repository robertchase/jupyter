{
 "cells": [
  {
   "cell_type": "markdown",
   "metadata": {},
   "source": [
    "https://rinterested.github.io/statistics/newton_raphson_method.html"
   ]
  },
  {
   "cell_type": "code",
   "execution_count": null,
   "metadata": {},
   "outputs": [],
   "source": [
    "def solve_for_rate(loan, payment, periods, guess=.01, error=pow(10, -10)):\n",
    "    \"\"\"derive the interest rate per period for a loan of equal payments\n",
    "    \"\"\"\n",
    "    \n",
    "    def f(rate):\n",
    "        \"\"\"F(x)=Px^(n+1)−(P+R)x^n+R - from referenced article\"\"\"\n",
    "        return (loan * rate ** (periods + 1) - \n",
    "            (loan + payment) * rate ** periods + payment)\n",
    "\n",
    "    def fp(rate):\n",
    "        \"\"\"F′(x)=P(n+1)x^n−(P+R)nx^(n−1) - derivative of F(x)\"\"\"\n",
    "        return (loan * (periods + 1) * rate ** periods - \n",
    "            (loan + payment) * periods * rate ** (periods - 1))\n",
    "    \n",
    "    guess += 1\n",
    "    for _ in range(10):\n",
    "        prev = guess\n",
    "        # newton-raphson\n",
    "        guess = prev - f(guess) / fp(guess)\n",
    "        if abs(guess - prev) < error:\n",
    "            break\n",
    "    return guess - 1"
   ]
  },
  {
   "cell_type": "code",
   "execution_count": null,
   "metadata": {},
   "outputs": [],
   "source": [
    "rate = round(12 * 100 * solve_for_rate(700, 35, 24), 4)\n",
    "assert rate == 18.157\n",
    "rate = round(12 * 100 * solve_for_rate(185000, 886.43, 30 * 12), 2)\n",
    "assert rate == 4.03"
   ]
  }
 ],
 "metadata": {
  "kernelspec": {
   "display_name": "Python 3",
   "language": "python",
   "name": "python3"
  },
  "language_info": {
   "codemirror_mode": {
    "name": "ipython",
    "version": 3
   },
   "file_extension": ".py",
   "mimetype": "text/x-python",
   "name": "python",
   "nbconvert_exporter": "python",
   "pygments_lexer": "ipython3",
   "version": "3.8.5"
  }
 },
 "nbformat": 4,
 "nbformat_minor": 4
}
