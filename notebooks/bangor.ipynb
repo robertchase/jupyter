{
 "cells": [
  {
   "cell_type": "markdown",
   "metadata": {},
   "source": [
    "https://w2.weather.gov/climate/local_data.php?wfo=car"
   ]
  },
  {
   "cell_type": "code",
   "execution_count": 64,
   "metadata": {},
   "outputs": [],
   "source": [
    "import pandas as pd\n",
    "import numpy as np\n",
    "import matplotlib.pyplot as plt\n",
    "import seaborn as sns"
   ]
  },
  {
   "cell_type": "markdown",
   "metadata": {},
   "source": [
    "# excel"
   ]
  },
  {
   "cell_type": "code",
   "execution_count": 121,
   "metadata": {},
   "outputs": [],
   "source": [
    "xl = pd.read_excel(\"data/bangor_climate.xlsx\")\n",
    "#xl = pd.read_excel(\"data/caribou_climate.xlsx\")"
   ]
  },
  {
   "cell_type": "code",
   "execution_count": 122,
   "metadata": {},
   "outputs": [],
   "source": [
    "data = xl[[\"Date\", \" MaxTemperature\"]]\n",
    "data.columns = [\"date\", \"tmax\"]\n",
    "data = data[data[\"tmax\"] != \" M\"]\n",
    "data[\"tmax\"] = data[\"tmax\"].astype(\"float\")\n",
    "data[\"date\"] = pd.to_datetime(data['date'])\n",
    "data['basedate'] = (data['date'] - pd.to_datetime('1800-01-01')).apply(lambda x: x.days)\n",
    "slope, intercept = np.polyfit(data['basedate'],data['tmax'], 1)\n",
    "data['linear'] = slope * data['basedate'] + intercept"
   ]
  },
  {
   "cell_type": "markdown",
   "metadata": {},
   "source": [
    "# csv"
   ]
  },
  {
   "cell_type": "code",
   "execution_count": 139,
   "metadata": {},
   "outputs": [],
   "source": [
    "csv = pd.read_csv(\"data/winchester.csv\")"
   ]
  },
  {
   "cell_type": "code",
   "execution_count": 141,
   "metadata": {},
   "outputs": [
    {
     "ename": "AttributeError",
     "evalue": "'DataFrame' object has no attribute 'isnan'",
     "output_type": "error",
     "traceback": [
      "\u001b[0;31m---------------------------------------------------------------------------\u001b[0m",
      "\u001b[0;31mAttributeError\u001b[0m                            Traceback (most recent call last)",
      "\u001b[0;32m/tmp/ipykernel_69/2961394397.py\u001b[0m in \u001b[0;36m<module>\u001b[0;34m\u001b[0m\n\u001b[0;32m----> 1\u001b[0;31m \u001b[0mcsv\u001b[0m\u001b[0;34m.\u001b[0m\u001b[0misnan\u001b[0m\u001b[0;34m(\u001b[0m\u001b[0;34m)\u001b[0m\u001b[0;34m\u001b[0m\u001b[0;34m\u001b[0m\u001b[0m\n\u001b[0m",
      "\u001b[0;32m/opt/conda/lib/python3.9/site-packages/pandas/core/generic.py\u001b[0m in \u001b[0;36m__getattr__\u001b[0;34m(self, name)\u001b[0m\n\u001b[1;32m   5485\u001b[0m         ):\n\u001b[1;32m   5486\u001b[0m             \u001b[0;32mreturn\u001b[0m \u001b[0mself\u001b[0m\u001b[0;34m[\u001b[0m\u001b[0mname\u001b[0m\u001b[0;34m]\u001b[0m\u001b[0;34m\u001b[0m\u001b[0;34m\u001b[0m\u001b[0m\n\u001b[0;32m-> 5487\u001b[0;31m         \u001b[0;32mreturn\u001b[0m \u001b[0mobject\u001b[0m\u001b[0;34m.\u001b[0m\u001b[0m__getattribute__\u001b[0m\u001b[0;34m(\u001b[0m\u001b[0mself\u001b[0m\u001b[0;34m,\u001b[0m \u001b[0mname\u001b[0m\u001b[0;34m)\u001b[0m\u001b[0;34m\u001b[0m\u001b[0;34m\u001b[0m\u001b[0m\n\u001b[0m\u001b[1;32m   5488\u001b[0m \u001b[0;34m\u001b[0m\u001b[0m\n\u001b[1;32m   5489\u001b[0m     \u001b[0;32mdef\u001b[0m \u001b[0m__setattr__\u001b[0m\u001b[0;34m(\u001b[0m\u001b[0mself\u001b[0m\u001b[0;34m,\u001b[0m \u001b[0mname\u001b[0m\u001b[0;34m:\u001b[0m \u001b[0mstr\u001b[0m\u001b[0;34m,\u001b[0m \u001b[0mvalue\u001b[0m\u001b[0;34m)\u001b[0m \u001b[0;34m->\u001b[0m \u001b[0;32mNone\u001b[0m\u001b[0;34m:\u001b[0m\u001b[0;34m\u001b[0m\u001b[0;34m\u001b[0m\u001b[0m\n",
      "\u001b[0;31mAttributeError\u001b[0m: 'DataFrame' object has no attribute 'isnan'"
     ]
    }
   ],
   "source": [
    "csv.isnan()"
   ]
  },
  {
   "cell_type": "code",
   "execution_count": 138,
   "metadata": {},
   "outputs": [
    {
     "name": "stdout",
     "output_type": "stream",
     "text": [
      "nan nan\n"
     ]
    }
   ],
   "source": [
    "data = csv.copy()\n",
    "data[\"tmax\"] = data[\"tmax\"].astype(\"float\")\n",
    "data['date'] = pd.to_datetime(data['date'])\n",
    "data['basedate'] = (data['date'] - pd.to_datetime('1800-01-01')).apply(lambda x: x.days)\n",
    "slope, intercept = np.polyfit(data['basedate'],data['tmax'], 1)\n",
    "data['linear'] = slope * data['basedate'] + intercept\n",
    "print(slope, intercept)"
   ]
  },
  {
   "cell_type": "code",
   "execution_count": 123,
   "metadata": {},
   "outputs": [
    {
     "data": {
      "text/plain": [
       "datetime.date(1925, 12, 1)"
      ]
     },
     "execution_count": 123,
     "metadata": {},
     "output_type": "execute_result"
    }
   ],
   "source": [
    "data.iloc[0,0].date()"
   ]
  },
  {
   "cell_type": "code",
   "execution_count": 41,
   "metadata": {},
   "outputs": [
    {
     "name": "stdout",
     "output_type": "stream",
     "text": [
      "               tmax      basedate        linear\n",
      "count  32716.000000  32716.000000  32716.000000\n",
      "mean      54.815106  63334.773230     54.815106\n",
      "std       20.560670   9849.469976      0.400530\n",
      "min       -6.000000  45989.000000     54.136558\n",
      "25%       38.000000  54534.750000     54.469595\n",
      "50%       56.000000  63641.500000     54.802633\n",
      "75%       73.000000  71831.250000     55.172960\n",
      "max      104.000000  80021.000000     55.520475\n",
      "-4.0665165783889144e-05 57.390624811942274\n"
     ]
    }
   ],
   "source": [
    "df = xl.parse(xl.sheet_names[0])\n",
    "df = df.rename(columns={'Date':'date', ' MaxTemperature': 'tmax'})\n",
    "df = df.loc[:,['date', 'tmax']]\n",
    "df = df[['date','tmax']].replace(' M', np.nan)\n",
    "df = df.dropna()\n",
    "df['date'] = pd.to_datetime(df['date'])\n",
    "df['basedate'] = (df['date'] - pd.to_datetime('1800-01-01')).apply(lambda x: x.days)\n",
    "slope, intercept = np.polyfit(df['basedate'],df['tmax'], 1)\n",
    "df['linear'] = slope * df['basedate'] + intercept\n",
    "print(df.describe())\n",
    "print(slope, intercept)"
   ]
  },
  {
   "cell_type": "code",
   "execution_count": 132,
   "metadata": {},
   "outputs": [
    {
     "data": {
      "text/html": [
       "<div>\n",
       "<style scoped>\n",
       "    .dataframe tbody tr th:only-of-type {\n",
       "        vertical-align: middle;\n",
       "    }\n",
       "\n",
       "    .dataframe tbody tr th {\n",
       "        vertical-align: top;\n",
       "    }\n",
       "\n",
       "    .dataframe thead th {\n",
       "        text-align: right;\n",
       "    }\n",
       "</style>\n",
       "<table border=\"1\" class=\"dataframe\">\n",
       "  <thead>\n",
       "    <tr style=\"text-align: right;\">\n",
       "      <th></th>\n",
       "      <th>date</th>\n",
       "      <th>tmax</th>\n",
       "      <th>basedate</th>\n",
       "      <th>linear</th>\n",
       "    </tr>\n",
       "  </thead>\n",
       "  <tbody>\n",
       "    <tr>\n",
       "      <th>0</th>\n",
       "      <td>1912-04-01</td>\n",
       "      <td>69.0</td>\n",
       "      <td>40997</td>\n",
       "      <td>NaN</td>\n",
       "    </tr>\n",
       "    <tr>\n",
       "      <th>1</th>\n",
       "      <td>1912-04-02</td>\n",
       "      <td>75.0</td>\n",
       "      <td>40998</td>\n",
       "      <td>NaN</td>\n",
       "    </tr>\n",
       "    <tr>\n",
       "      <th>2</th>\n",
       "      <td>1912-04-03</td>\n",
       "      <td>61.0</td>\n",
       "      <td>40999</td>\n",
       "      <td>NaN</td>\n",
       "    </tr>\n",
       "    <tr>\n",
       "      <th>3</th>\n",
       "      <td>1912-04-04</td>\n",
       "      <td>63.0</td>\n",
       "      <td>41000</td>\n",
       "      <td>NaN</td>\n",
       "    </tr>\n",
       "    <tr>\n",
       "      <th>4</th>\n",
       "      <td>1912-04-05</td>\n",
       "      <td>71.0</td>\n",
       "      <td>41001</td>\n",
       "      <td>NaN</td>\n",
       "    </tr>\n",
       "  </tbody>\n",
       "</table>\n",
       "</div>"
      ],
      "text/plain": [
       "        date  tmax  basedate  linear\n",
       "0 1912-04-01  69.0     40997     NaN\n",
       "1 1912-04-02  75.0     40998     NaN\n",
       "2 1912-04-03  61.0     40999     NaN\n",
       "3 1912-04-04  63.0     41000     NaN\n",
       "4 1912-04-05  71.0     41001     NaN"
      ]
     },
     "execution_count": 132,
     "metadata": {},
     "output_type": "execute_result"
    }
   ],
   "source": [
    "data.head()"
   ]
  },
  {
   "cell_type": "code",
   "execution_count": 134,
   "metadata": {},
   "outputs": [
    {
     "data": {
      "text/plain": [
       "<AxesSubplot:xlabel='basedate', ylabel='tmax'>"
      ]
     },
     "execution_count": 134,
     "metadata": {},
     "output_type": "execute_result"
    },
    {
     "data": {
      "image/png": "[encoded data removed]",
      "text/plain": [
       "<Figure size 432x288 with 1 Axes>"
      ]
     },
     "metadata": {
      "needs_background": "light"
     },
     "output_type": "display_data"
    }
   ],
   "source": [
    "sns.regplot(data=data,x=\"basedate\",y=\"tmax\",scatter=False)"
   ]
  },
  {
   "cell_type": "code",
   "execution_count": 126,
   "metadata": {},
   "outputs": [
    {
     "data": {
      "text/plain": [
       "<seaborn.axisgrid.FacetGrid at 0x7efe0d56eb80>"
      ]
     },
     "execution_count": 126,
     "metadata": {},
     "output_type": "execute_result"
    },
    {
     "data": {
      "image/png": "[encoded data removed]",
      "text/plain": [
       "<Figure size 360x360 with 1 Axes>"
      ]
     },
     "metadata": {
      "needs_background": "light"
     },
     "output_type": "display_data"
    }
   ],
   "source": [
    "sns.displot(data[\"tmax\"])"
   ]
  },
  {
   "cell_type": "code",
   "execution_count": 127,
   "metadata": {},
   "outputs": [
    {
     "data": {
      "text/plain": [
       "[<matplotlib.lines.Line2D at 0x7efe0b402f10>]"
      ]
     },
     "execution_count": 127,
     "metadata": {},
     "output_type": "execute_result"
    },
    {
     "data": {
      "image/png": "[encoded data removed]",
      "text/plain": [
       "<Figure size 432x288 with 1 Axes>"
      ]
     },
     "metadata": {
      "needs_background": "light"
     },
     "output_type": "display_data"
    }
   ],
   "source": [
    "plt.plot('date', 'tmax', data=data)\n",
    "plt.plot('date', 'linear', data=data)"
   ]
  },
  {
   "cell_type": "markdown",
   "metadata": {},
   "source": [
    "https://www.ncdc.noaa.gov/cdo-web/datatools/findstation"
   ]
  },
  {
   "cell_type": "code",
   "execution_count": 11,
   "metadata": {},
   "outputs": [
    {
     "name": "stdout",
     "output_type": "stream",
     "text": [
      "               tmax      basedate        linear\n",
      "count  33426.000000  33426.000000  33426.000000\n",
      "mean      64.770149  62786.390804     64.770149\n",
      "std       19.450735   9718.656125      0.088546\n",
      "min       -4.000000  46020.000000     64.617392\n",
      "25%       49.000000  54381.250000     64.693570\n",
      "50%       68.000000  62741.500000     64.769740\n",
      "75%       82.000000  71143.750000     64.846292\n",
      "max      105.000000  80246.000000     64.929222\n",
      "9.11092837628591e-06 64.19810667620254\n"
     ]
    }
   ],
   "source": [
    "#df = pd.read_csv(\"data/billings.csv\")\n",
    "#df = pd.read_csv(\"data/bozeman.csv\")\n",
    "#df = pd.read_csv(\"data/mandan.csv\")\n",
    "df = pd.read_csv(\"data/parkersburg.csv\")\n",
    "#df = pd.read_csv(\"data/superior.csv\")\n",
    "#df = pd.read_csv(\"data/winchester.csv\")\n",
    "df = df.dropna()\n",
    "df['date'] = pd.to_datetime(df['date'])\n",
    "df['basedate'] = (df['date'] - pd.to_datetime('1800-01-01')).apply(lambda x: x.days)\n",
    "slope, intercept = np.polyfit(df['basedate'],df['tmax'], 1)\n",
    "df['linear'] = slope * df['basedate'] + intercept\n",
    "print(df.describe())\n",
    "print(slope, intercept)"
   ]
  },
  {
   "cell_type": "code",
   "execution_count": 12,
   "metadata": {},
   "outputs": [
    {
     "data": {
      "text/plain": [
       "[<matplotlib.lines.Line2D at 0x7f39ef3aed68>]"
      ]
     },
     "execution_count": 12,
     "metadata": {},
     "output_type": "execute_result"
    },
    {
     "data": {
      "image/png": "[encoded data removed]",
      "text/plain": [
       "<Figure size 432x288 with 1 Axes>"
      ]
     },
     "metadata": {
      "needs_background": "light"
     },
     "output_type": "display_data"
    }
   ],
   "source": [
    "plt.plot('date', 'tmax', data=df)\n",
    "plt.plot('date', 'linear', data=df)"
   ]
  },
  {
   "cell_type": "code",
   "execution_count": 13,
   "metadata": {},
   "outputs": [
    {
     "data": {
      "text/html": [
       "<div>\n",
       "<style scoped>\n",
       "    .dataframe tbody tr th:only-of-type {\n",
       "        vertical-align: middle;\n",
       "    }\n",
       "\n",
       "    .dataframe tbody tr th {\n",
       "        vertical-align: top;\n",
       "    }\n",
       "\n",
       "    .dataframe thead th {\n",
       "        text-align: right;\n",
       "    }\n",
       "</style>\n",
       "<table border=\"1\" class=\"dataframe\">\n",
       "  <thead>\n",
       "    <tr style=\"text-align: right;\">\n",
       "      <th></th>\n",
       "      <th>date</th>\n",
       "      <th>tmax</th>\n",
       "      <th>basedate</th>\n",
       "      <th>linear</th>\n",
       "    </tr>\n",
       "  </thead>\n",
       "  <tbody>\n",
       "    <tr>\n",
       "      <th>515</th>\n",
       "      <td>1926-01-01</td>\n",
       "      <td>40.0</td>\n",
       "      <td>46020</td>\n",
       "      <td>64.617392</td>\n",
       "    </tr>\n",
       "    <tr>\n",
       "      <th>34158</th>\n",
       "      <td>2019-09-16</td>\n",
       "      <td>89.0</td>\n",
       "      <td>80246</td>\n",
       "      <td>64.929222</td>\n",
       "    </tr>\n",
       "  </tbody>\n",
       "</table>\n",
       "</div>"
      ],
      "text/plain": [
       "            date  tmax  basedate     linear\n",
       "515   1926-01-01  40.0     46020  64.617392\n",
       "34158 2019-09-16  89.0     80246  64.929222"
      ]
     },
     "execution_count": 13,
     "metadata": {},
     "output_type": "execute_result"
    }
   ],
   "source": [
    "df[(df['date'] == df['date'].min()) | (df['date'] == df['date'].max())]"
   ]
  },
  {
   "cell_type": "code",
   "execution_count": 19,
   "metadata": {},
   "outputs": [
    {
     "name": "stdout",
     "output_type": "stream",
     "text": [
      "103.67161945220073\n",
      "             tmax      basedate      linear\n",
      "count    3.000000      3.000000    3.000000\n",
      "mean   104.333333  61805.333333  104.333333\n",
      "std      0.577350  12225.103285    0.288696\n",
      "min    104.000000  47689.000000  103.999976\n",
      "25%    104.000000  58276.000000  104.249988\n",
      "50%    104.000000  68863.000000  104.500000\n",
      "75%    104.500000  68863.500000  104.500012\n",
      "max    105.000000  68864.000000  104.500024\n",
      "2.361498118615682e-05 102.87380154946251\n"
     ]
    },
    {
     "name": "stderr",
     "output_type": "stream",
     "text": [
      "/opt/conda/lib/python3.7/site-packages/pandas/core/generic.py:5079: FutureWarning: Attribute 'is_copy' is deprecated and will be removed in a future version.\n",
      "  object.__getattribute__(self, name)\n",
      "/opt/conda/lib/python3.7/site-packages/pandas/core/generic.py:5080: FutureWarning: Attribute 'is_copy' is deprecated and will be removed in a future version.\n",
      "  return object.__setattr__(self, name, value)\n"
     ]
    },
    {
     "data": {
      "text/plain": [
       "[<matplotlib.lines.Line2D at 0x7f39ef361eb8>]"
      ]
     },
     "execution_count": 19,
     "metadata": {},
     "output_type": "execute_result"
    },
    {
     "data": {
      "image/png": "[encoded data removed]",
      "text/plain": [
       "<Figure size 432x288 with 1 Axes>"
      ]
     },
     "metadata": {
      "needs_background": "light"
     },
     "output_type": "display_data"
    }
   ],
   "source": [
    "high = df['tmax'].mean() + 2 * df['tmax'].std()\n",
    "print(high)\n",
    "max = df[df['tmax'] > high]\n",
    "max.is_copy = None  # we actually want a copy\n",
    "\n",
    "slope, intercept = np.polyfit(max['basedate'],max['tmax'], 1)\n",
    "max['linear'] = slope * max['basedate'] + intercept\n",
    "print(max.describe())\n",
    "print(slope, intercept)\n",
    "\n",
    "plt.plot('date', 'tmax', data=max)\n",
    "plt.plot('date', 'linear', data=max)"
   ]
  },
  {
   "cell_type": "code",
   "execution_count": 15,
   "metadata": {},
   "outputs": [
    {
     "data": {
      "text/html": [
       "<div>\n",
       "<style scoped>\n",
       "    .dataframe tbody tr th:only-of-type {\n",
       "        vertical-align: middle;\n",
       "    }\n",
       "\n",
       "    .dataframe tbody tr th {\n",
       "        vertical-align: top;\n",
       "    }\n",
       "\n",
       "    .dataframe thead th {\n",
       "        text-align: right;\n",
       "    }\n",
       "</style>\n",
       "<table border=\"1\" class=\"dataframe\">\n",
       "  <thead>\n",
       "    <tr style=\"text-align: right;\">\n",
       "      <th></th>\n",
       "      <th>date</th>\n",
       "      <th>tmax</th>\n",
       "      <th>basedate</th>\n",
       "      <th>linear</th>\n",
       "    </tr>\n",
       "  </thead>\n",
       "  <tbody>\n",
       "    <tr>\n",
       "      <th>1669</th>\n",
       "      <td>1930-07-28</td>\n",
       "      <td>104.0</td>\n",
       "      <td>47689</td>\n",
       "      <td>103.999976</td>\n",
       "    </tr>\n",
       "    <tr>\n",
       "      <th>22809</th>\n",
       "      <td>1988-07-17</td>\n",
       "      <td>104.0</td>\n",
       "      <td>68863</td>\n",
       "      <td>104.500000</td>\n",
       "    </tr>\n",
       "    <tr>\n",
       "      <th>22810</th>\n",
       "      <td>1988-07-18</td>\n",
       "      <td>105.0</td>\n",
       "      <td>68864</td>\n",
       "      <td>104.500024</td>\n",
       "    </tr>\n",
       "  </tbody>\n",
       "</table>\n",
       "</div>"
      ],
      "text/plain": [
       "            date   tmax  basedate      linear\n",
       "1669  1930-07-28  104.0     47689  103.999976\n",
       "22809 1988-07-17  104.0     68863  104.500000\n",
       "22810 1988-07-18  105.0     68864  104.500024"
      ]
     },
     "execution_count": 15,
     "metadata": {},
     "output_type": "execute_result"
    }
   ],
   "source": [
    "max"
   ]
  },
  {
   "cell_type": "code",
   "execution_count": 16,
   "metadata": {},
   "outputs": [
    {
     "name": "stdout",
     "output_type": "stream",
     "text": [
      "25.868678519438106\n",
      "             tmax      basedate      linear\n",
      "count  680.000000    680.000000  680.000000\n",
      "mean    20.302941  62975.833824   20.302941\n",
      "std      4.546211   9363.700270    0.032812\n",
      "min     -4.000000  46042.000000   20.243603\n",
      "25%     18.000000  55422.500000   20.276473\n",
      "50%     22.000000  63193.500000   20.303704\n",
      "75%     24.000000  69527.500000   20.325899\n",
      "max     25.000000  80020.000000   20.362666\n",
      "3.5041382684682686e-06 20.082265147180866\n"
     ]
    },
    {
     "data": {
      "text/plain": [
       "[<matplotlib.lines.Line2D at 0x7f39ef17a898>]"
      ]
     },
     "execution_count": 16,
     "metadata": {},
     "output_type": "execute_result"
    },
    {
     "data": {
      "image/png": "[encoded data removed]",
      "text/plain": [
       "<Figure size 432x288 with 1 Axes>"
      ]
     },
     "metadata": {
      "needs_background": "light"
     },
     "output_type": "display_data"
    }
   ],
   "source": [
    "low = df['tmax'].mean() - 2 * df['tmax'].std()\n",
    "print(low)\n",
    "min = df[df['tmax'] < low]\n",
    "min.is_copy = None  # we actually want a copy\n",
    "\n",
    "slope, intercept = np.polyfit(min['basedate'],min['tmax'], 1)\n",
    "min['linear'] = slope * min['basedate'] + intercept\n",
    "print(min.describe())\n",
    "print(slope, intercept)\n",
    "\n",
    "plt.plot('date', 'tmax', data=min)\n",
    "plt.plot('date', 'linear', data=min)"
   ]
  },
  {
   "cell_type": "code",
   "execution_count": 17,
   "metadata": {},
   "outputs": [
    {
     "data": {
      "text/html": [
       "<div>\n",
       "<style scoped>\n",
       "    .dataframe tbody tr th:only-of-type {\n",
       "        vertical-align: middle;\n",
       "    }\n",
       "\n",
       "    .dataframe tbody tr th {\n",
       "        vertical-align: top;\n",
       "    }\n",
       "\n",
       "    .dataframe thead th {\n",
       "        text-align: right;\n",
       "    }\n",
       "</style>\n",
       "<table border=\"1\" class=\"dataframe\">\n",
       "  <thead>\n",
       "    <tr style=\"text-align: right;\">\n",
       "      <th></th>\n",
       "      <th>date</th>\n",
       "      <th>tmax</th>\n",
       "      <th>basedate</th>\n",
       "      <th>linear</th>\n",
       "    </tr>\n",
       "  </thead>\n",
       "  <tbody>\n",
       "    <tr>\n",
       "      <th>5</th>\n",
       "      <td>1926-01-23</td>\n",
       "      <td>23.0</td>\n",
       "      <td>46042</td>\n",
       "      <td>20.243603</td>\n",
       "    </tr>\n",
       "    <tr>\n",
       "      <th>23</th>\n",
       "      <td>1926-02-10</td>\n",
       "      <td>25.0</td>\n",
       "      <td>46060</td>\n",
       "      <td>20.243666</td>\n",
       "    </tr>\n",
       "    <tr>\n",
       "      <th>24</th>\n",
       "      <td>1926-02-11</td>\n",
       "      <td>24.0</td>\n",
       "      <td>46061</td>\n",
       "      <td>20.243669</td>\n",
       "    </tr>\n",
       "    <tr>\n",
       "      <th>334</th>\n",
       "      <td>1926-12-18</td>\n",
       "      <td>23.0</td>\n",
       "      <td>46371</td>\n",
       "      <td>20.244756</td>\n",
       "    </tr>\n",
       "    <tr>\n",
       "      <th>362</th>\n",
       "      <td>1927-01-15</td>\n",
       "      <td>19.0</td>\n",
       "      <td>46399</td>\n",
       "      <td>20.244854</td>\n",
       "    </tr>\n",
       "    <tr>\n",
       "      <th>363</th>\n",
       "      <td>1927-01-16</td>\n",
       "      <td>19.0</td>\n",
       "      <td>46400</td>\n",
       "      <td>20.244857</td>\n",
       "    </tr>\n",
       "    <tr>\n",
       "      <th>707</th>\n",
       "      <td>1927-12-09</td>\n",
       "      <td>23.0</td>\n",
       "      <td>46727</td>\n",
       "      <td>20.246003</td>\n",
       "    </tr>\n",
       "    <tr>\n",
       "      <th>717</th>\n",
       "      <td>1927-12-19</td>\n",
       "      <td>21.0</td>\n",
       "      <td>46737</td>\n",
       "      <td>20.246038</td>\n",
       "    </tr>\n",
       "    <tr>\n",
       "      <th>730</th>\n",
       "      <td>1928-01-01</td>\n",
       "      <td>20.0</td>\n",
       "      <td>46750</td>\n",
       "      <td>20.246084</td>\n",
       "    </tr>\n",
       "    <tr>\n",
       "      <th>731</th>\n",
       "      <td>1928-01-02</td>\n",
       "      <td>12.0</td>\n",
       "      <td>46751</td>\n",
       "      <td>20.246087</td>\n",
       "    </tr>\n",
       "    <tr>\n",
       "      <th>732</th>\n",
       "      <td>1928-01-03</td>\n",
       "      <td>17.0</td>\n",
       "      <td>46752</td>\n",
       "      <td>20.246091</td>\n",
       "    </tr>\n",
       "    <tr>\n",
       "      <th>733</th>\n",
       "      <td>1928-01-04</td>\n",
       "      <td>25.0</td>\n",
       "      <td>46753</td>\n",
       "      <td>20.246094</td>\n",
       "    </tr>\n",
       "    <tr>\n",
       "      <th>750</th>\n",
       "      <td>1928-01-21</td>\n",
       "      <td>22.0</td>\n",
       "      <td>46770</td>\n",
       "      <td>20.246154</td>\n",
       "    </tr>\n",
       "    <tr>\n",
       "      <th>757</th>\n",
       "      <td>1928-01-28</td>\n",
       "      <td>21.0</td>\n",
       "      <td>46777</td>\n",
       "      <td>20.246178</td>\n",
       "    </tr>\n",
       "    <tr>\n",
       "      <th>758</th>\n",
       "      <td>1928-01-29</td>\n",
       "      <td>23.0</td>\n",
       "      <td>46778</td>\n",
       "      <td>20.246182</td>\n",
       "    </tr>\n",
       "    <tr>\n",
       "      <th>1109</th>\n",
       "      <td>1929-01-14</td>\n",
       "      <td>25.0</td>\n",
       "      <td>47129</td>\n",
       "      <td>20.247412</td>\n",
       "    </tr>\n",
       "    <tr>\n",
       "      <th>1124</th>\n",
       "      <td>1929-01-29</td>\n",
       "      <td>25.0</td>\n",
       "      <td>47144</td>\n",
       "      <td>20.247464</td>\n",
       "    </tr>\n",
       "    <tr>\n",
       "      <th>1127</th>\n",
       "      <td>1929-02-01</td>\n",
       "      <td>21.0</td>\n",
       "      <td>47147</td>\n",
       "      <td>20.247475</td>\n",
       "    </tr>\n",
       "    <tr>\n",
       "      <th>1128</th>\n",
       "      <td>1929-02-02</td>\n",
       "      <td>21.0</td>\n",
       "      <td>47148</td>\n",
       "      <td>20.247478</td>\n",
       "    </tr>\n",
       "    <tr>\n",
       "      <th>1146</th>\n",
       "      <td>1929-02-20</td>\n",
       "      <td>23.0</td>\n",
       "      <td>47166</td>\n",
       "      <td>20.247541</td>\n",
       "    </tr>\n",
       "    <tr>\n",
       "      <th>1428</th>\n",
       "      <td>1929-11-29</td>\n",
       "      <td>24.0</td>\n",
       "      <td>47448</td>\n",
       "      <td>20.248529</td>\n",
       "    </tr>\n",
       "    <tr>\n",
       "      <th>1429</th>\n",
       "      <td>1929-11-30</td>\n",
       "      <td>18.0</td>\n",
       "      <td>47449</td>\n",
       "      <td>20.248533</td>\n",
       "    </tr>\n",
       "    <tr>\n",
       "      <th>1432</th>\n",
       "      <td>1929-12-03</td>\n",
       "      <td>21.0</td>\n",
       "      <td>47452</td>\n",
       "      <td>20.248544</td>\n",
       "    </tr>\n",
       "    <tr>\n",
       "      <th>1449</th>\n",
       "      <td>1929-12-20</td>\n",
       "      <td>24.0</td>\n",
       "      <td>47469</td>\n",
       "      <td>20.248603</td>\n",
       "    </tr>\n",
       "    <tr>\n",
       "      <th>1479</th>\n",
       "      <td>1930-01-19</td>\n",
       "      <td>20.0</td>\n",
       "      <td>47499</td>\n",
       "      <td>20.248708</td>\n",
       "    </tr>\n",
       "    <tr>\n",
       "      <th>1480</th>\n",
       "      <td>1930-01-20</td>\n",
       "      <td>25.0</td>\n",
       "      <td>47500</td>\n",
       "      <td>20.248712</td>\n",
       "    </tr>\n",
       "    <tr>\n",
       "      <th>1483</th>\n",
       "      <td>1930-01-23</td>\n",
       "      <td>18.0</td>\n",
       "      <td>47503</td>\n",
       "      <td>20.248722</td>\n",
       "    </tr>\n",
       "    <tr>\n",
       "      <th>1489</th>\n",
       "      <td>1930-01-29</td>\n",
       "      <td>22.0</td>\n",
       "      <td>47509</td>\n",
       "      <td>20.248743</td>\n",
       "    </tr>\n",
       "    <tr>\n",
       "      <th>1791</th>\n",
       "      <td>1930-11-27</td>\n",
       "      <td>18.0</td>\n",
       "      <td>47811</td>\n",
       "      <td>20.249802</td>\n",
       "    </tr>\n",
       "    <tr>\n",
       "      <th>1792</th>\n",
       "      <td>1930-11-28</td>\n",
       "      <td>22.0</td>\n",
       "      <td>47812</td>\n",
       "      <td>20.249805</td>\n",
       "    </tr>\n",
       "    <tr>\n",
       "      <th>...</th>\n",
       "      <td>...</td>\n",
       "      <td>...</td>\n",
       "      <td>...</td>\n",
       "      <td>...</td>\n",
       "    </tr>\n",
       "    <tr>\n",
       "      <th>32497</th>\n",
       "      <td>2015-02-18</td>\n",
       "      <td>23.0</td>\n",
       "      <td>78575</td>\n",
       "      <td>20.357603</td>\n",
       "    </tr>\n",
       "    <tr>\n",
       "      <th>32498</th>\n",
       "      <td>2015-02-19</td>\n",
       "      <td>23.0</td>\n",
       "      <td>78576</td>\n",
       "      <td>20.357606</td>\n",
       "    </tr>\n",
       "    <tr>\n",
       "      <th>32499</th>\n",
       "      <td>2015-02-20</td>\n",
       "      <td>10.0</td>\n",
       "      <td>78577</td>\n",
       "      <td>20.357610</td>\n",
       "    </tr>\n",
       "    <tr>\n",
       "      <th>32500</th>\n",
       "      <td>2015-02-21</td>\n",
       "      <td>19.0</td>\n",
       "      <td>78578</td>\n",
       "      <td>20.357613</td>\n",
       "    </tr>\n",
       "    <tr>\n",
       "      <th>32503</th>\n",
       "      <td>2015-02-24</td>\n",
       "      <td>19.0</td>\n",
       "      <td>78581</td>\n",
       "      <td>20.357624</td>\n",
       "    </tr>\n",
       "    <tr>\n",
       "      <th>32513</th>\n",
       "      <td>2015-03-06</td>\n",
       "      <td>21.0</td>\n",
       "      <td>78591</td>\n",
       "      <td>20.357659</td>\n",
       "    </tr>\n",
       "    <tr>\n",
       "      <th>32514</th>\n",
       "      <td>2015-03-07</td>\n",
       "      <td>24.0</td>\n",
       "      <td>78592</td>\n",
       "      <td>20.357662</td>\n",
       "    </tr>\n",
       "    <tr>\n",
       "      <th>33159</th>\n",
       "      <td>2016-12-16</td>\n",
       "      <td>21.0</td>\n",
       "      <td>79242</td>\n",
       "      <td>20.359940</td>\n",
       "    </tr>\n",
       "    <tr>\n",
       "      <th>33181</th>\n",
       "      <td>2017-01-07</td>\n",
       "      <td>20.0</td>\n",
       "      <td>79264</td>\n",
       "      <td>20.360017</td>\n",
       "    </tr>\n",
       "    <tr>\n",
       "      <th>33182</th>\n",
       "      <td>2017-01-08</td>\n",
       "      <td>20.0</td>\n",
       "      <td>79265</td>\n",
       "      <td>20.360021</td>\n",
       "    </tr>\n",
       "    <tr>\n",
       "      <th>33183</th>\n",
       "      <td>2017-01-09</td>\n",
       "      <td>20.0</td>\n",
       "      <td>79266</td>\n",
       "      <td>20.360024</td>\n",
       "    </tr>\n",
       "    <tr>\n",
       "      <th>33536</th>\n",
       "      <td>2017-12-28</td>\n",
       "      <td>21.0</td>\n",
       "      <td>79619</td>\n",
       "      <td>20.361261</td>\n",
       "    </tr>\n",
       "    <tr>\n",
       "      <th>33537</th>\n",
       "      <td>2017-12-29</td>\n",
       "      <td>19.0</td>\n",
       "      <td>79620</td>\n",
       "      <td>20.361265</td>\n",
       "    </tr>\n",
       "    <tr>\n",
       "      <th>33539</th>\n",
       "      <td>2017-12-31</td>\n",
       "      <td>25.0</td>\n",
       "      <td>79622</td>\n",
       "      <td>20.361272</td>\n",
       "    </tr>\n",
       "    <tr>\n",
       "      <th>33540</th>\n",
       "      <td>2018-01-01</td>\n",
       "      <td>15.0</td>\n",
       "      <td>79623</td>\n",
       "      <td>20.361275</td>\n",
       "    </tr>\n",
       "    <tr>\n",
       "      <th>33541</th>\n",
       "      <td>2018-01-02</td>\n",
       "      <td>14.0</td>\n",
       "      <td>79624</td>\n",
       "      <td>20.361279</td>\n",
       "    </tr>\n",
       "    <tr>\n",
       "      <th>33544</th>\n",
       "      <td>2018-01-05</td>\n",
       "      <td>19.0</td>\n",
       "      <td>79627</td>\n",
       "      <td>20.361289</td>\n",
       "    </tr>\n",
       "    <tr>\n",
       "      <th>33545</th>\n",
       "      <td>2018-01-06</td>\n",
       "      <td>17.0</td>\n",
       "      <td>79628</td>\n",
       "      <td>20.361293</td>\n",
       "    </tr>\n",
       "    <tr>\n",
       "      <th>33546</th>\n",
       "      <td>2018-01-07</td>\n",
       "      <td>18.0</td>\n",
       "      <td>79629</td>\n",
       "      <td>20.361296</td>\n",
       "    </tr>\n",
       "    <tr>\n",
       "      <th>33553</th>\n",
       "      <td>2018-01-14</td>\n",
       "      <td>21.0</td>\n",
       "      <td>79636</td>\n",
       "      <td>20.361321</td>\n",
       "    </tr>\n",
       "    <tr>\n",
       "      <th>33554</th>\n",
       "      <td>2018-01-15</td>\n",
       "      <td>24.0</td>\n",
       "      <td>79637</td>\n",
       "      <td>20.361324</td>\n",
       "    </tr>\n",
       "    <tr>\n",
       "      <th>33557</th>\n",
       "      <td>2018-01-18</td>\n",
       "      <td>16.0</td>\n",
       "      <td>79640</td>\n",
       "      <td>20.361335</td>\n",
       "    </tr>\n",
       "    <tr>\n",
       "      <th>33570</th>\n",
       "      <td>2018-01-31</td>\n",
       "      <td>22.0</td>\n",
       "      <td>79653</td>\n",
       "      <td>20.361380</td>\n",
       "    </tr>\n",
       "    <tr>\n",
       "      <th>33573</th>\n",
       "      <td>2018-02-03</td>\n",
       "      <td>23.0</td>\n",
       "      <td>79656</td>\n",
       "      <td>20.361391</td>\n",
       "    </tr>\n",
       "    <tr>\n",
       "      <th>33925</th>\n",
       "      <td>2019-01-21</td>\n",
       "      <td>24.0</td>\n",
       "      <td>80008</td>\n",
       "      <td>20.362624</td>\n",
       "    </tr>\n",
       "    <tr>\n",
       "      <th>33926</th>\n",
       "      <td>2019-01-22</td>\n",
       "      <td>20.0</td>\n",
       "      <td>80009</td>\n",
       "      <td>20.362628</td>\n",
       "    </tr>\n",
       "    <tr>\n",
       "      <th>33934</th>\n",
       "      <td>2019-01-30</td>\n",
       "      <td>22.0</td>\n",
       "      <td>80017</td>\n",
       "      <td>20.362656</td>\n",
       "    </tr>\n",
       "    <tr>\n",
       "      <th>33935</th>\n",
       "      <td>2019-01-31</td>\n",
       "      <td>11.0</td>\n",
       "      <td>80018</td>\n",
       "      <td>20.362659</td>\n",
       "    </tr>\n",
       "    <tr>\n",
       "      <th>33936</th>\n",
       "      <td>2019-02-01</td>\n",
       "      <td>16.0</td>\n",
       "      <td>80019</td>\n",
       "      <td>20.362663</td>\n",
       "    </tr>\n",
       "    <tr>\n",
       "      <th>33937</th>\n",
       "      <td>2019-02-02</td>\n",
       "      <td>21.0</td>\n",
       "      <td>80020</td>\n",
       "      <td>20.362666</td>\n",
       "    </tr>\n",
       "  </tbody>\n",
       "</table>\n",
       "<p>680 rows × 4 columns</p>\n",
       "</div>"
      ],
      "text/plain": [
       "            date  tmax  basedate     linear\n",
       "5     1926-01-23  23.0     46042  20.243603\n",
       "23    1926-02-10  25.0     46060  20.243666\n",
       "24    1926-02-11  24.0     46061  20.243669\n",
       "334   1926-12-18  23.0     46371  20.244756\n",
       "362   1927-01-15  19.0     46399  20.244854\n",
       "363   1927-01-16  19.0     46400  20.244857\n",
       "707   1927-12-09  23.0     46727  20.246003\n",
       "717   1927-12-19  21.0     46737  20.246038\n",
       "730   1928-01-01  20.0     46750  20.246084\n",
       "731   1928-01-02  12.0     46751  20.246087\n",
       "732   1928-01-03  17.0     46752  20.246091\n",
       "733   1928-01-04  25.0     46753  20.246094\n",
       "750   1928-01-21  22.0     46770  20.246154\n",
       "757   1928-01-28  21.0     46777  20.246178\n",
       "758   1928-01-29  23.0     46778  20.246182\n",
       "1109  1929-01-14  25.0     47129  20.247412\n",
       "1124  1929-01-29  25.0     47144  20.247464\n",
       "1127  1929-02-01  21.0     47147  20.247475\n",
       "1128  1929-02-02  21.0     47148  20.247478\n",
       "1146  1929-02-20  23.0     47166  20.247541\n",
       "1428  1929-11-29  24.0     47448  20.248529\n",
       "1429  1929-11-30  18.0     47449  20.248533\n",
       "1432  1929-12-03  21.0     47452  20.248544\n",
       "1449  1929-12-20  24.0     47469  20.248603\n",
       "1479  1930-01-19  20.0     47499  20.248708\n",
       "1480  1930-01-20  25.0     47500  20.248712\n",
       "1483  1930-01-23  18.0     47503  20.248722\n",
       "1489  1930-01-29  22.0     47509  20.248743\n",
       "1791  1930-11-27  18.0     47811  20.249802\n",
       "1792  1930-11-28  22.0     47812  20.249805\n",
       "...          ...   ...       ...        ...\n",
       "32497 2015-02-18  23.0     78575  20.357603\n",
       "32498 2015-02-19  23.0     78576  20.357606\n",
       "32499 2015-02-20  10.0     78577  20.357610\n",
       "32500 2015-02-21  19.0     78578  20.357613\n",
       "32503 2015-02-24  19.0     78581  20.357624\n",
       "32513 2015-03-06  21.0     78591  20.357659\n",
       "32514 2015-03-07  24.0     78592  20.357662\n",
       "33159 2016-12-16  21.0     79242  20.359940\n",
       "33181 2017-01-07  20.0     79264  20.360017\n",
       "33182 2017-01-08  20.0     79265  20.360021\n",
       "33183 2017-01-09  20.0     79266  20.360024\n",
       "33536 2017-12-28  21.0     79619  20.361261\n",
       "33537 2017-12-29  19.0     79620  20.361265\n",
       "33539 2017-12-31  25.0     79622  20.361272\n",
       "33540 2018-01-01  15.0     79623  20.361275\n",
       "33541 2018-01-02  14.0     79624  20.361279\n",
       "33544 2018-01-05  19.0     79627  20.361289\n",
       "33545 2018-01-06  17.0     79628  20.361293\n",
       "33546 2018-01-07  18.0     79629  20.361296\n",
       "33553 2018-01-14  21.0     79636  20.361321\n",
       "33554 2018-01-15  24.0     79637  20.361324\n",
       "33557 2018-01-18  16.0     79640  20.361335\n",
       "33570 2018-01-31  22.0     79653  20.361380\n",
       "33573 2018-02-03  23.0     79656  20.361391\n",
       "33925 2019-01-21  24.0     80008  20.362624\n",
       "33926 2019-01-22  20.0     80009  20.362628\n",
       "33934 2019-01-30  22.0     80017  20.362656\n",
       "33935 2019-01-31  11.0     80018  20.362659\n",
       "33936 2019-02-01  16.0     80019  20.362663\n",
       "33937 2019-02-02  21.0     80020  20.362666\n",
       "\n",
       "[680 rows x 4 columns]"
      ]
     },
     "execution_count": 17,
     "metadata": {},
     "output_type": "execute_result"
    }
   ],
   "source": [
    "min"
   ]
  },
  {
   "cell_type": "code",
   "execution_count": 18,
   "metadata": {},
   "outputs": [
    {
     "data": {
      "text/plain": [
       "<matplotlib.axes._subplots.AxesSubplot at 0x7f39ef303c88>"
      ]
     },
     "execution_count": 18,
     "metadata": {},
     "output_type": "execute_result"
    },
    {
     "data": {
      "image/png": "[encoded data removed]",
      "text/plain": [
       "<Figure size 432x288 with 1 Axes>"
      ]
     },
     "metadata": {
      "needs_background": "light"
     },
     "output_type": "display_data"
    }
   ],
   "source": [
    "plt.figure()\n",
    "df['tmax'].plot.hist()"
   ]
  },
  {
   "cell_type": "code",
   "execution_count": null,
   "metadata": {},
   "outputs": [],
   "source": []
  },
  {
   "cell_type": "code",
   "execution_count": null,
   "metadata": {},
   "outputs": [],
   "source": []
  }
 ],
 "metadata": {
  "kernelspec": {
   "display_name": "Python 3 (ipykernel)",
   "language": "python",
   "name": "python3"
  },
  "language_info": {
   "codemirror_mode": {
    "name": "ipython",
    "version": 3
   },
   "file_extension": ".py",
   "mimetype": "text/x-python",
   "name": "python",
   "nbconvert_exporter": "python",
   "pygments_lexer": "ipython3",
   "version": "3.9.7"
  }
 },
 "nbformat": 4,
 "nbformat_minor": 2
}
