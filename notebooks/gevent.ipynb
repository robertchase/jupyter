{
 "cells": [
  {
   "cell_type": "code",
   "execution_count": 3,
   "metadata": {},
   "outputs": [
    {
     "name": "stdout",
     "output_type": "stream",
     "text": [
      "<module 'socket' from '/opt/conda/lib/python3.8/socket.py'>\n",
      "<module 'gevent.socket' from '/opt/conda/lib/python3.8/site-packages/gevent/socket.py'>\n"
     ]
    }
   ],
   "source": [
    "import socket\n",
    "print(socket)\n",
    "\n",
    "from gevent import socket\n",
    "print(socket)"
   ]
  },
  {
   "cell_type": "code",
   "execution_count": 1,
   "metadata": {},
   "outputs": [
    {
     "data": {
      "text/plain": [
       "True"
      ]
     },
     "execution_count": 1,
     "metadata": {},
     "output_type": "execute_result"
    }
   ],
   "source": [
    "from gevent import monkey\n",
    "#monkey.patch_all()"
   ]
  },
  {
   "cell_type": "code",
   "execution_count": 2,
   "metadata": {},
   "outputs": [
    {
     "name": "stdout",
     "output_type": "stream",
     "text": [
      "The history saving thread hit an unexpected error (This operation would block forever\n",
      "\tHub: <Hub '' at 0x7f2b42c6cc40 epoll pending=0 ref=0 fileno=48 thread_ident=0x7f2b59360700>\n",
      "\tHandles:\n",
      "[]).History will not be written to the database.\n"
     ]
    }
   ],
   "source": [
    "import time\n",
    "import gevent\n",
    "import requests"
   ]
  },
  {
   "cell_type": "code",
   "execution_count": null,
   "metadata": {},
   "outputs": [],
   "source": [
    "def getter():\n",
    "        response = requests.get(\"https://www.google.com\")\n",
    "\n",
    "for i in range(10):\n",
    "    jobs = [gevent.spawn(getter) for i in range(10)]\n",
    "\n",
    "start = time.perf_counter()\n",
    "gevent.wait(jobs)\n",
    "finish = time.perf_counter()"
   ]
  },
  {
   "cell_type": "code",
   "execution_count": null,
   "metadata": {},
   "outputs": [],
   "source": [
    "finish-start"
   ]
  },
  {
   "cell_type": "code",
   "execution_count": null,
   "metadata": {},
   "outputs": [],
   "source": []
  }
 ],
 "metadata": {
  "kernelspec": {
   "display_name": "Python 3",
   "language": "python",
   "name": "python3"
  },
  "language_info": {
   "codemirror_mode": {
    "name": "ipython",
    "version": 3
   },
   "file_extension": ".py",
   "mimetype": "text/x-python",
   "name": "python",
   "nbconvert_exporter": "python",
   "pygments_lexer": "ipython3",
   "version": "3.8.5"
  }
 },
 "nbformat": 4,
 "nbformat_minor": 4
}
